{
 "cells": [
  {
   "cell_type": "code",
   "execution_count": 1,
   "metadata": {
    "collapsed": true
   },
   "outputs": [],
   "source": [
    "import os\n",
    "import pandas as pd\n",
    "import numpy as np\n",
    "import matplotlib.pyplot as plt\n",
    "%matplotlib inline"
   ]
  },
  {
   "cell_type": "code",
   "execution_count": 9,
   "metadata": {
    "collapsed": false
   },
   "outputs": [],
   "source": [
    "pd.options.display.max_rows = 360\n",
    "Y = pd.read_csv('C:\\\\python27\\\\CAPSTONE\\\\Y.csv').sort_values('Condition')\n",
    "listaml = Y.index[:43]\n",
    "listnorm = Y.index[43:]"
   ]
  },
  {
   "cell_type": "code",
   "execution_count": 13,
   "metadata": {
    "collapsed": false
   },
   "outputs": [],
   "source": [
    "listaml = Y.index[:43]\n",
    "listnorm = Y.index[43:]"
   ]
  },
  {
   "cell_type": "markdown",
   "metadata": {
    "collapsed": true
   },
   "source": [
    "COLLINEARITY CHECK FOR LOG REG"
   ]
  },
  {
   "cell_type": "code",
   "execution_count": 9,
   "metadata": {
    "collapsed": false
   },
   "outputs": [
    {
     "data": {
      "text/plain": [
       "array([[ 1.        , -0.0923163 , -0.13260092, ..., -0.06127286,\n",
       "        -0.11903286, -0.08802539],\n",
       "       [-0.0923163 ,  1.        , -0.0226436 , ...,  0.0493659 ,\n",
       "         0.08799145,  0.09996856],\n",
       "       [-0.13260092, -0.0226436 ,  1.        , ...,  0.00814773,\n",
       "         0.15317661,  0.04309231],\n",
       "       ..., \n",
       "       [-0.06127286,  0.0493659 ,  0.00814773, ...,  1.        ,\n",
       "         0.01311654,  0.00910144],\n",
       "       [-0.11903286,  0.08799145,  0.15317661, ...,  0.01311654,\n",
       "         1.        ,  0.11056967],\n",
       "       [-0.08802539,  0.09996856,  0.04309231, ...,  0.00910144,\n",
       "         0.11056967,  1.        ]])"
      ]
     },
     "execution_count": 9,
     "metadata": {},
     "output_type": "execute_result"
    }
   ],
   "source": [
    "from collections import defaultdict\n",
    "from sklearn.preprocessing import MinMaxScaler\n",
    "\n",
    "def get_csv(ptnum,tube):\n",
    "    fcs = 'C:\\\\python27\\\\FCSlog10\\\\' + str(8*(ptnum-1)+tube) + '.csv'\n",
    "    return np.genfromtxt(fcs, delimiter=',')[1:,1:].astype(int)\n",
    "\n",
    "def histo(data):\n",
    "    d = defaultdict(int) \n",
    "    for cell in data:\n",
    "        d[tuple(cell)] += 1\n",
    "    return d\n",
    "\n",
    "def scale_data(data):\n",
    "    scale = MinMaxScaler()\n",
    "    #scale = MaxAbsScaler()\n",
    "    data = scale.fit_transform(data)\n",
    "    data = data[:,data.sum(axis=0)!=0] # drop 100% empty columns\n",
    "    return data\n",
    "\n",
    "def get_data2(tube):\n",
    "    #start = time.time()\n",
    "    data = get_csv(1,tube)\n",
    "    raw = pd.DataFrame(histo(data),index=[0])\n",
    "        \n",
    "    for pt in range(2,360):\n",
    "        data = get_csv(pt,tube)\n",
    "        raw.ix[pt-1,:] = histo(data)\n",
    "    \n",
    "    raw = scale_data(raw.fillna(0))\n",
    "\n",
    "    #print('Raws scaled - ' + str((time.time()-start)/60) + ' min')\n",
    "    return raw\n",
    "\n",
    "np.corrcoef(get_data2(4))"
   ]
  },
  {
   "cell_type": "markdown",
   "metadata": {},
   "source": [
    "Global max"
   ]
  },
  {
   "cell_type": "code",
   "execution_count": 26,
   "metadata": {
    "collapsed": false
   },
   "outputs": [
    {
     "data": {
      "text/plain": [
       "array([ 6999.     ,   204.6    ,  1014.83093,  1014.83093,   970.20264,\n",
       "        1005.744  ,  1005.744  ,  1014.83093,   204.6    ,  1014.83093,\n",
       "        1014.83093,  1014.83093,   978.96844,   911.0007 ,   952.90576,\n",
       "         204.6    ,  1014.83093,  1014.83093,   944.3733 ,   987.8135 ,\n",
       "         894.7593 ,   902.84344,   204.6    ,  1014.83093,  1014.83093,\n",
       "        1014.83093,   996.73846,   996.73846,  1014.83093,   204.6    ,\n",
       "        1014.83093,  1005.744  ,   970.20264,  1005.744  ,   911.0007 ,\n",
       "        1005.744  ,   204.6    ,  1014.83093,  1014.83093,   978.96844,\n",
       "         996.73846,  1005.744  ,  1005.744  ,   204.6    ,  1014.83093,\n",
       "        1014.83093,   832.63794,  1005.744  ,   996.73846,   987.8135 ,\n",
       "         204.6    ,  1014.83093,  1005.744  ,   894.7593 ,  1014.83093,\n",
       "         927.5369 ,   952.90576])"
      ]
     },
     "execution_count": 26,
     "metadata": {},
     "output_type": "execute_result"
    }
   ],
   "source": [
    "maxsig = np.zeros(57)\n",
    "\n",
    "for i in range(1,360):\n",
    "    temp = pd.read_csv('C:\\\\python27\\\\FCS2\\\\'+str(i)+'.csv')\n",
    "    #temp = temp.drop(temp.columns[[0,3,4,6,7,8,9,10,11,12,15,16,19,22,23,26,29,30,36,37,40,43,44,47,50,51,52,53,54,55,56]],axis=1)\n",
    "    for j in range(0,len(temp.columns)):\n",
    "        if temp[temp.columns[j]].max() > maxsig[j]:\n",
    "            maxsig[j] = temp[temp.columns[j]].max() \n",
    "            \n",
    "maxsig"
   ]
  },
  {
   "cell_type": "code",
   "execution_count": 11,
   "metadata": {
    "collapsed": false
   },
   "outputs": [
    {
     "data": {
      "image/png": "[encoded data removed]",
      "text/plain": [
       "<matplotlib.figure.Figure at 0xa0e5fd0>"
      ]
     },
     "metadata": {},
     "output_type": "display_data"
    }
   ],
   "source": [
    "pt = 9\n",
    "tube = 1\n",
    "\n",
    "data = np.genfromtxt('C:\\\\python27\\\\FCS\\\\' + str((pt-1)*8+tube) + '.csv',delimiter=',')[1:,4]\n",
    "#data2 = np.genfromtxt('C:\\\\python27\\\\FCS\\\\' + str((pt-1)*8+tube) + '.csv',delimiter=',')[1:,1]\n",
    "data = np.log10(data)\n",
    "#data2 = np.log10(data2)\n",
    "plt.style.use('ggplot')\n",
    "plt.plot(1,6)\n",
    "plt.hist(data,range = [-1,3], bins =10)\n",
    "plt.show()"
   ]
  },
  {
   "cell_type": "code",
   "execution_count": 11,
   "metadata": {
    "collapsed": false
   },
   "outputs": [
    {
     "data": {
      "text/plain": [
       "(array([ 805,  722, 2203, 4840, 2018, 1600, 3448, 4609, 4088, 5666], dtype=int64),\n",
       " array([  30.  ,   47.46,   64.92,   82.38,   99.84,  117.3 ,  134.76,\n",
       "         152.22,  169.68,  187.14,  204.6 ]))"
      ]
     },
     "execution_count": 11,
     "metadata": {},
     "output_type": "execute_result"
    }
   ],
   "source": [
    "histo"
   ]
  },
  {
   "cell_type": "code",
   "execution_count": null,
   "metadata": {
    "collapsed": true
   },
   "outputs": [],
   "source": []
  },
  {
   "cell_type": "code",
   "execution_count": null,
   "metadata": {
    "collapsed": true
   },
   "outputs": [],
   "source": []
  },
  {
   "cell_type": "markdown",
   "metadata": {},
   "source": [
    "# LOG TRANSFORM, INTO BINS (10)"
   ]
  },
  {
   "cell_type": "code",
   "execution_count": 132,
   "metadata": {
    "collapsed": true
   },
   "outputs": [],
   "source": [
    "def get_binFSC(x):\n",
    "    return int(x / 205 * 10)\n",
    "\n",
    "def get_binOther(x):\n",
    "    return int((np.log10(x)+1) / (3.00645+1) * 10)\n",
    "\n",
    "def binmap(df):\n",
    "    for i in range(7):\n",
    "        if i == 0:\n",
    "            df.ix[:,i] = df.ix[:,[i]].applymap(get_binFSC)\n",
    "        else: \n",
    "            df.ix[:,i] = df.ix[:,[i]].applymap(get_binOther)"
   ]
  },
  {
   "cell_type": "code",
   "execution_count": 133,
   "metadata": {
    "collapsed": false
   },
   "outputs": [],
   "source": [
    "for i in range(1,2873): \n",
    "    temp = pd.read_csv('C:\\\\python27\\\\FCS\\\\'+str(i)+'.csv')\n",
    "    binmap(temp)\n",
    "    topath = 'C:\\\\python27\\\\FCSlog10\\\\'+str(i)+'.csv'\n",
    "    temp.to_csv(topath)"
   ]
  },
  {
   "cell_type": "markdown",
   "metadata": {},
   "source": [
    "# LOG TRANSFORM, INTO BINS (20)"
   ]
  },
  {
   "cell_type": "code",
   "execution_count": 116,
   "metadata": {
    "collapsed": true
   },
   "outputs": [],
   "source": [
    "def get_binFSC(x):\n",
    "    return int(x / 205 * 20)\n",
    "\n",
    "def get_binOther(x):\n",
    "    return int((np.log10(x)+1) / (3.00645+1) * 20)\n",
    "\n",
    "def binmap(df):\n",
    "    for i in range(7):\n",
    "        if i == 0:\n",
    "            df.ix[:,i] = df.ix[:,[i]].applymap(get_binFSC)\n",
    "        else: \n",
    "            df.ix[:,i] = df.ix[:,[i]].applymap(get_binOther)"
   ]
  },
  {
   "cell_type": "code",
   "execution_count": 115,
   "metadata": {
    "collapsed": false
   },
   "outputs": [],
   "source": [
    "for i in range(1,2873): \n",
    "    temp = pd.read_csv('C:\\\\python27\\\\FCS\\\\'+str(i)+'.csv')\n",
    "    binmap(temp)\n",
    "    topath = 'C:\\\\python27\\\\FCSlog20\\\\'+str(i)+'.csv'\n",
    "    temp.to_csv(topath)"
   ]
  },
  {
   "cell_type": "code",
   "execution_count": null,
   "metadata": {
    "collapsed": true
   },
   "outputs": [],
   "source": []
  },
  {
   "cell_type": "code",
   "execution_count": null,
   "metadata": {
    "collapsed": true
   },
   "outputs": [],
   "source": []
  },
  {
   "cell_type": "markdown",
   "metadata": {},
   "source": [
    "# TURN ALL DATA INTO BINS (100)"
   ]
  },
  {
   "cell_type": "code",
   "execution_count": 6,
   "metadata": {
    "collapsed": true
   },
   "outputs": [],
   "source": [
    "def get_binFSC(x):\n",
    "    return int((float(x) / float(205)) * 200)\n",
    "\n",
    "def get_binOther(x):\n",
    "    return int((float(x) / float(1015)) * 200)\n",
    "\n",
    "def binmap(df):\n",
    "    for i in range(len(df.columns)):\n",
    "        if i%7 == 0:\n",
    "            df.ix[:,[i]] = df.ix[:,[i]].applymap(get_binFSC)\n",
    "        else: \n",
    "            df.ix[:,[i]] = df.ix[:,[i]].applymap(get_binOther)"
   ]
  },
  {
   "cell_type": "code",
   "execution_count": 7,
   "metadata": {
    "collapsed": true
   },
   "outputs": [],
   "source": [
    "for i in range(1,2873): \n",
    "    temp = pd.read_csv('C:\\\\python27\\\\FCS\\\\'+str(i)+'.csv')\n",
    "    binmap(temp)\n",
    "    topath = 'C:\\\\python27\\\\FCS200\\\\'+str(i)+'.csv'\n",
    "    temp.to_csv(topath)"
   ]
  },
  {
   "cell_type": "markdown",
   "metadata": {
    "collapsed": true
   },
   "source": [
    "# TURN ALL DATA INTO BINS (50)"
   ]
  },
  {
   "cell_type": "code",
   "execution_count": 17,
   "metadata": {
    "collapsed": true
   },
   "outputs": [],
   "source": [
    "def get_binFSC(x):\n",
    "    return int((float(x) / float(205)) * 50)\n",
    "\n",
    "def get_binOther(x):\n",
    "    return int((float(x) / float(1015)) * 50)\n",
    "\n",
    "def binmap(df):\n",
    "    for i in range(len(df.columns)):\n",
    "        if i%7 == 0:\n",
    "            df.ix[:,[i]] = df.ix[:,[i]].applymap(get_binFSC)\n",
    "        else: \n",
    "            df.ix[:,[i]] = df.ix[:,[i]].applymap(get_binOther)"
   ]
  },
  {
   "cell_type": "code",
   "execution_count": 18,
   "metadata": {
    "collapsed": false
   },
   "outputs": [],
   "source": [
    "for i in range(1,360): \n",
    "    temp = pd.read_csv('C:\\\\python27\\\\FCS2\\\\'+str(i)+'.csv').ix[:,1:]\n",
    "    binmap(temp)\n",
    "    topath = 'C:\\\\python27\\\\FCS50\\\\'+str(i)+'.csv'\n",
    "    temp.to_csv(topath)"
   ]
  },
  {
   "cell_type": "markdown",
   "metadata": {},
   "source": [
    "# TURN ALL DATA INTO BINS (10)"
   ]
  },
  {
   "cell_type": "code",
   "execution_count": 28,
   "metadata": {
    "collapsed": true
   },
   "outputs": [],
   "source": [
    "def get_binFSC(x):\n",
    "    return int((float(x) / float(205)) * 10)\n",
    "\n",
    "def get_binOther(x):\n",
    "    return int((float(x) / float(1015)) * 10)\n",
    "\n",
    "def binmap(df):\n",
    "    for i in range(len(df.columns)):\n",
    "        if i%7 == 0:\n",
    "            df.ix[:,[i]] = df.ix[:,[i]].applymap(get_binFSC)\n",
    "        else: \n",
    "            df.ix[:,[i]] = df.ix[:,[i]].applymap(get_binOther)"
   ]
  },
  {
   "cell_type": "code",
   "execution_count": 31,
   "metadata": {
    "collapsed": false
   },
   "outputs": [],
   "source": [
    "for i in range(1,360): \n",
    "    temp = pd.read_csv('C:\\\\python27\\\\FCS2\\\\'+str(i)+'.csv').ix[:,1:]\n",
    "    binmap(temp)\n",
    "    topath = 'C:\\\\python27\\\\FCS3\\\\'+str(i)+'.csv'\n",
    "    temp.to_csv(topath)\n",
    "    "
   ]
  },
  {
   "cell_type": "markdown",
   "metadata": {},
   "source": [
    "# COMBINE 8 TUBES FOR EACH PATIENT SIDE BY SIDE"
   ]
  },
  {
   "cell_type": "code",
   "execution_count": 2,
   "metadata": {
    "collapsed": true
   },
   "outputs": [],
   "source": [
    "n = 7000\n",
    "\n",
    "for i in range(1,2873):    \n",
    "    if i%8 == 1: # first tube\n",
    "        temp = pd.read_csv('C:\\\\python27\\\\FCS\\\\'+str(i)+'.csv').ix[:6999,2:]\n",
    "        \n",
    "    elif i%8 > 1: # concat the next tube. for i = 7, concat tube 8.\n",
    "        temp = pd.concat([temp,pd.read_csv('C:\\\\python27\\\\FCS\\\\'+str(i)+'.csv').ix[:6999,2:]],axis=1)\n",
    "        \n",
    "    elif i%8 == 0: # tube 8 for every patient: write the set of 8 into a new csv named for patient number\n",
    "        temp = pd.concat([temp,pd.read_csv('C:\\\\python27\\\\FCS\\\\'+str(i)+'.csv').ix[:6999,2:]],axis=1)\n",
    "        topath = 'C:\\\\python27\\\\FCS3\\\\'+str(i/8)+'.csv'\n",
    "        temp.to_csv(topath)      "
   ]
  },
  {
   "cell_type": "markdown",
   "metadata": {},
   "source": [
    "# DROP REDUNDANT, IRRELEVANT MARKERS"
   ]
  },
  {
   "cell_type": "code",
   "execution_count": null,
   "metadata": {
    "collapsed": true
   },
   "outputs": [],
   "source": [
    "for i in range(1,360):\n",
    "    path = 'C:\\\\python27\\\\FCS2\\\\' + str(i) + '.csv'\n",
    "    topath = 'C:\\\\python27\\\\FCSback\\\\' + str(i) + '.csv'"
   ]
  },
  {
   "cell_type": "markdown",
   "metadata": {},
   "source": [
    "# BACKFILL WITH MEANS"
   ]
  },
  {
   "cell_type": "code",
   "execution_count": 7,
   "metadata": {
    "collapsed": false
   },
   "outputs": [],
   "source": [
    "for i in range(1,360):\n",
    "    path = 'C:\\\\python27\\\\FCS2\\\\' + str(i) + '.csv'\n",
    "    topath = 'C:\\\\python27\\\\FCSback\\\\' + str(i) + '.csv'\n",
    "    \n",
    "    temp = pd.read_csv(path)\n",
    "    temp = temp.drop(temp.columns[0],axis=1)\n",
    "    for j in range(0,36):\n",
    "        temp.ix[:,j] = temp.ix[:,j].fillna(temp.ix[:,j].mean())\n",
    "    temp.to_csv(topath)\n",
    "temp.head()"
   ]
  },
  {
   "cell_type": "markdown",
   "metadata": {},
   "source": [
    "# TAKE FIRST N SAMPLES, STACK N SAMPLES INTO \"N * 7 : 1\" COLUMN"
   ]
  },
  {
   "cell_type": "code",
   "execution_count": 36,
   "metadata": {
    "collapsed": false
   },
   "outputs": [],
   "source": [
    "for i in range(1,2873):\n",
    "    path = 'C:\\\\python27\\\\FCS\\\\' + str(i) + '.csv'\n",
    "    topath = 'C:\\\\python27\\\\FCSlist\\\\' + str(i) + '.csv'\n",
    "    \n",
    "    temp = pd.read_csv('C:\\\\python27\\\\FCS\\\\1.csv')\n",
    "    df = temp.iloc[:5000,0]\n",
    "    for j in range(1,len(temp.columns)):\n",
    "        df = pd.concat([df,temp.iloc[:5000,j]],ignore_index=True)\n",
    "    df.to_csv(topath)"
   ]
  },
  {
   "cell_type": "markdown",
   "metadata": {
    "collapsed": true
   },
   "source": [
    "# CONCAT 8 TUBES INTO 1 PER PT"
   ]
  },
  {
   "cell_type": "code",
   "execution_count": 38,
   "metadata": {
    "collapsed": false
   },
   "outputs": [],
   "source": [
    "for i in range(1,2873):    \n",
    "    if i%8 == 1: # first case: concatenate tube 1 and 2\n",
    "        doc = pd.read_csv('C:\\\\python27\\\\FCSlist\\\\' + str(i) + '.csv')\n",
    "        doc2 = pd.read_csv('C:\\\\python27\\\\FCSlist\\\\' + str(i+1) + '.csv')\n",
    "        doc = pd.concat([doc,doc2],axis = 0)\n",
    "    elif i%8 == 0: # tube 8 for every patient: write the set of 8 into a new csv named for patient number\n",
    "        path = 'C:\\\\python27\\\\FCSflat\\\\' + str(i/8) + '.csv'\n",
    "        doc.to_csv(path)\n",
    "    elif i%8 != 0: # concat the next tube. for i = 7, concat tube 8.\n",
    "        doc = pd.concat([doc,pd.read_csv('C:\\\\python27\\\\FCSlist\\\\' + str(i+1) + '.csv')],axis=0)"
   ]
  }
 ],
 "metadata": {
  "anaconda-cloud": {},
  "kernelspec": {
   "display_name": "Python [conda root]",
   "language": "python",
   "name": "conda-root-py"
  },
  "language_info": {
   "codemirror_mode": {
    "name": "ipython",
    "version": 2
   },
   "file_extension": ".py",
   "mimetype": "text/x-python",
   "name": "python",
   "nbconvert_exporter": "python",
   "pygments_lexer": "ipython2",
   "version": "2.7.12"
  }
 },
 "nbformat": 4,
 "nbformat_minor": 1
}
